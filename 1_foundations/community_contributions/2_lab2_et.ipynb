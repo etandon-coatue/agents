{
 "cells": [
  {
   "cell_type": "code",
   "execution_count": 3,
   "metadata": {},
   "outputs": [],
   "source": [
    "import os\n",
    "import json\n",
    "from dotenv import load_dotenv\n",
    "from openai import OpenAI"
   ]
  },
  {
   "cell_type": "code",
   "execution_count": 4,
   "metadata": {},
   "outputs": [
    {
     "data": {
      "text/plain": [
       "True"
      ]
     },
     "execution_count": 4,
     "metadata": {},
     "output_type": "execute_result"
    }
   ],
   "source": [
    "load_dotenv(override=True)"
   ]
  },
  {
   "cell_type": "code",
   "execution_count": 24,
   "metadata": {},
   "outputs": [],
   "source": [
    "system_prompt = \"\"\"\n",
    "You are an expert tic tac toe {role}. The board is 3x3. The players are X and O. \n",
    "    The board is represented by Json array. Where \".\" represents empty cell. \n",
    "    Sample empty board:\n",
    "    {\n",
    "        \"board\": [\n",
    "            ['.', '.', '.'],\n",
    "            ['.', '.', '.'],\n",
    "            ['.', '.', '.']\n",
    "            ]\n",
    "    }\n",
    "    The first player to get 3 of their marks in a row, column, or diagonal wins. \n",
    "    Few examples where X is the winner:\n",
    "    {\n",
    "        \"board\": [\n",
    "            ['X', 'O', '.'],\n",
    "            ['X', 'O', '.'],\n",
    "            ['X', '.', '.']\n",
    "            ]\n",
    "    }\n",
    "    {\n",
    "        \"board\": [\n",
    "            ['X', 'O', '.'],\n",
    "            ['O', 'X', '.'],\n",
    "            ['.', '.', 'X']\n",
    "            ]\n",
    "    }\n",
    "    Few Examples where O is the winner:\n",
    "    {\n",
    "        \"board\": [\n",
    "            ['X', 'O', '.'],\n",
    "            ['X', 'O', '.'],\n",
    "            ['.', 'O', 'X']\n",
    "            ]\n",
    "    }\n",
    "    {\n",
    "        \"board\": [\n",
    "            ['X', 'O', '.'],\n",
    "            ['.', 'O', 'X'],\n",
    "            ['.', 'O', 'X']\n",
    "        ]\n",
    "    }\n",
    "    Few Examples where these is no winner yet:\n",
    "    {\n",
    "        \"board\": [\n",
    "            ['X', 'O', 'O'],\n",
    "            ['O', 'X', 'X'],\n",
    "            ['O', '.', '.']\n",
    "        ]\n",
    "    }\n",
    "    If all cells are filled and no player has won, the game is a draw.\n",
    "    Give the result of the game in the same format as the board. Dont respond with anything else. Just the updated state of the board.\n",
    "\"\"\"\n",
    "\n",
    "def check_winner(board=\"***|***|***\"):\n",
    "    return f\"\"\"If someone has won respond with on X or O if someone has won, otherwise return \"No Winner\", just the string \"No Winner\" and nothing else.\n",
    "    Did someone win? Respond with on X or O if someone has won, otherwise return \"No Winner\", just the string \"No Winner\" and nothing else.\n",
    "    This is the current state of the board: {board}\"\"\"\n",
    "\n",
    "def next_move(board=\"***|***|***\"):\n",
    "    return f\"\"\"Please suggest a move for the next player. This is the current state of the board: {board}\"\"\""
   ]
  },
  {
   "cell_type": "code",
   "execution_count": 2,
   "metadata": {},
   "outputs": [
    {
     "ename": "NameError",
     "evalue": "name 'OpenAI' is not defined",
     "output_type": "error",
     "traceback": [
      "\u001b[31m---------------------------------------------------------------------------\u001b[39m",
      "\u001b[31mNameError\u001b[39m                                 Traceback (most recent call last)",
      "\u001b[36mCell\u001b[39m\u001b[36m \u001b[39m\u001b[32mIn[2]\u001b[39m\u001b[32m, line 3\u001b[39m\n\u001b[32m      1\u001b[39m \u001b[38;5;66;03m# client = (OpenAI(), \"gpt-4o-mini\") \u001b[39;00m\n\u001b[32m      2\u001b[39m \u001b[38;5;66;03m# client = (OpenAI(api_key=os.getenv(\"GOOGLE_API_KEY\"), base_url=\"https://generativelanguage.googleapis.com/v1beta/openai/\"), \"gemini-2.0-flash\")\u001b[39;00m\n\u001b[32m----> \u001b[39m\u001b[32m3\u001b[39m client = (\u001b[43mOpenAI\u001b[49m(api_key=os.getenv(\u001b[33m\"\u001b[39m\u001b[33mDEEPSEEK_API_KEY\u001b[39m\u001b[33m\"\u001b[39m), base_url=\u001b[33m\"\u001b[39m\u001b[33mhttps://api.deepseek.com/v1\u001b[39m\u001b[33m\"\u001b[39m), \u001b[33m\"\u001b[39m\u001b[33mdeepseek-chat\u001b[39m\u001b[33m\"\u001b[39m)\n\u001b[32m      4\u001b[39m currentWinner = \u001b[33m\"\u001b[39m\u001b[33mNo Winner\u001b[39m\u001b[33m\"\u001b[39m\n\u001b[32m      5\u001b[39m currentState = \u001b[33m\"\"\"\u001b[39m\n\u001b[32m      6\u001b[39m \u001b[33m    \u001b[39m\u001b[33m{\u001b[39m\n\u001b[32m      7\u001b[39m \u001b[33m        \u001b[39m\u001b[33m\"\u001b[39m\u001b[33mboard\u001b[39m\u001b[33m\"\u001b[39m\u001b[33m: [\u001b[39m\n\u001b[32m   (...)\u001b[39m\u001b[32m     12\u001b[39m \u001b[33m    }\u001b[39m\n\u001b[32m     13\u001b[39m \u001b[33m\"\"\"\u001b[39m\n",
      "\u001b[31mNameError\u001b[39m: name 'OpenAI' is not defined"
     ]
    }
   ],
   "source": [
    "# client = (OpenAI(), \"gpt-4o-mini\") \n",
    "# client = (OpenAI(api_key=os.getenv(\"GOOGLE_API_KEY\"), base_url=\"https://generativelanguage.googleapis.com/v1beta/openai/\"), \"gemini-2.0-flash\")\n",
    "client = (OpenAI(api_key=os.getenv(\"DEEPSEEK_API_KEY\"), base_url=\"https://api.deepseek.com/v1\"), \"deepseek-chat\")\n",
    "currentWinner = \"No Winner\"\n",
    "currentState = \"\"\"\n",
    "    {\n",
    "        \"board\": [\n",
    "            ['.', '.', '.'],\n",
    "            ['.', '.', '.'],\n",
    "            ['.', '.', '.']\n",
    "            ]\n",
    "    }\n",
    "\"\"\"\n",
    "def send_message(message):\n",
    "    completion = client[0].chat.completions.create(\n",
    "    model=client[1],\n",
    "    messages=message\n",
    "    )\n",
    "    return completion.choices[0].message.content\n",
    "\n",
    "\n",
    "\n",
    "while currentWinner.__contains__(\"No Winner\"):\n",
    "    messageNextMove = [{\"role\": \"system\", \"content\": system_prompt}] +  [{\"role\": \"user\", \"content\": next_move(currentState)}]\n",
    "    messageCheckWinner = [{\"role\": \"system\", \"content\": system_prompt}] +  [{\"role\": \"user\", \"content\": check_winner(currentState)}]\n",
    "    result=send_message(messageCheckWinner)\n",
    "    print(f\"result: {result}\")\n",
    "    if not result.__contains__(\"No Winner\"):\n",
    "        currentWinner = result\n",
    "        print(f\"Winner is {currentWinner}\")\n",
    "    else:\n",
    "        currentState=send_message(messageNextMove)\n",
    "        print(f\"\"\"currentState: {currentState}\"\"\")"
   ]
  }
 ],
 "metadata": {
  "kernelspec": {
   "display_name": ".venv",
   "language": "python",
   "name": "python3"
  },
  "language_info": {
   "codemirror_mode": {
    "name": "ipython",
    "version": 3
   },
   "file_extension": ".py",
   "mimetype": "text/x-python",
   "name": "python",
   "nbconvert_exporter": "python",
   "pygments_lexer": "ipython3",
   "version": "3.12.11"
  }
 },
 "nbformat": 4,
 "nbformat_minor": 2
}
